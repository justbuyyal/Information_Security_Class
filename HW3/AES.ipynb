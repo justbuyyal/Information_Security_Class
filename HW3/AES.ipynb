{
 "cells": [
  {
   "cell_type": "code",
   "execution_count": 1,
   "metadata": {},
   "outputs": [],
   "source": [
    "from PIL import Image\n",
    "# pip install Pillow\n",
    "from Crypto.Cipher import AES\n",
    "# pip install crypto pycryptodome\n",
    "# pip uninstall crypto pycryptodome\n",
    "# pip install pycryptodome"
   ]
  },
  {
   "cell_type": "code",
   "execution_count": 2,
   "metadata": {},
   "outputs": [],
   "source": [
    "# load plaintext image\n",
    "plaintextJPEG = Image.open('./penguin.jpeg')\n",
    "plaintextJPEG.save('./plaintext.ppm', 'ppm')\n",
    "plaintextPPM = Image.open('./plaintext.ppm')"
   ]
  },
  {
   "cell_type": "code",
   "execution_count": 3,
   "metadata": {},
   "outputs": [],
   "source": [
    "## process\n",
    "cipherPPM = plaintextPPM\n"
   ]
  },
  {
   "cell_type": "code",
   "execution_count": 4,
   "metadata": {},
   "outputs": [],
   "source": [
    "# output cipher image\n",
    "cipherPPM.save('./cipher.jpeg', 'jpeg')"
   ]
  }
 ],
 "metadata": {
  "kernelspec": {
   "display_name": "Python 3",
   "language": "python",
   "name": "python3"
  },
  "language_info": {
   "codemirror_mode": {
    "name": "ipython",
    "version": 3
   },
   "file_extension": ".py",
   "mimetype": "text/x-python",
   "name": "python",
   "nbconvert_exporter": "python",
   "pygments_lexer": "ipython3",
   "version": "3.7.5"
  }
 },
 "nbformat": 4,
 "nbformat_minor": 2
}
