{
 "cells": [
  {
   "cell_type": "code",
   "execution_count": 1,
   "metadata": {},
   "outputs": [],
   "source": [
    "from PIL import Image\n",
    "from Crypto.Cipher import AES"
   ]
  },
  {
   "cell_type": "code",
   "execution_count": 2,
   "metadata": {},
   "outputs": [],
   "source": [
    "# load plaintext image\n",
    "plaintextJPEG = Image.open('./rose.jpg')\n",
    "plaintextJPEG.save('./plaintext.ppm', 'ppm')\n",
    "plaintextPPM = Image.open('./plaintext.ppm')"
   ]
  },
  {
   "cell_type": "code",
   "execution_count": 3,
   "metadata": {},
   "outputs": [],
   "source": [
    "## process\n",
    "plaintextPPM = open('./plaintext.ppm', 'rb') # read plaintext as binary file\n",
    "cipher = open('./cipher.ppm', 'wb')\n",
    "\n",
    "for i in range(3):\n",
    "    buf = plaintextPPM.readline()\n",
    "    cipher.write(buf)"
   ]
  },
  {
   "cell_type": "code",
   "execution_count": 4,
   "metadata": {},
   "outputs": [],
   "source": [
    "key = b'FEFEFEFEFEFEFEFE'\n",
    "cipherBlock = AES.new(key, AES.MODE_ECB)\n",
    "\n",
    "buf = plaintextPPM.read(16)\n",
    "\n",
    "while buf:\n",
    "    # PKCS\n",
    "    padding = 16 - len(buf)\n",
    "    if padding != 0:\n",
    "        for i in range(padding):\n",
    "            buf += bytes([padding])\n",
    "    \n",
    "    ciphertext = cipherBlock.encrypt(buf)\n",
    "    cipher.write(ciphertext)\n",
    "    buf = plaintextPPM.read(16)"
   ]
  },
  {
   "cell_type": "code",
   "execution_count": 5,
   "metadata": {},
   "outputs": [],
   "source": [
    "plaintextPPM.close()\n",
    "cipher.close()"
   ]
  },
  {
   "cell_type": "code",
   "execution_count": 6,
   "metadata": {},
   "outputs": [],
   "source": [
    "cipherPPM = Image.open('./cipher.ppm')\n",
    "cipherPPM\n",
    "cipherPPM.close()"
   ]
  },
  {
   "cell_type": "code",
   "execution_count": 7,
   "metadata": {},
   "outputs": [],
   "source": [
    "cipher = open('./cipher.ppm', 'rb')\n",
    "decrypt = open('./decrypt.ppm', 'wb')\n",
    "for i in range(3):\n",
    "    buf = cipher.readline()\n",
    "    decrypt.write(buf)\n"
   ]
  },
  {
   "cell_type": "code",
   "execution_count": 8,
   "metadata": {},
   "outputs": [],
   "source": [
    "key = b'FEFEFEFEFEFEFEFE'\n",
    "cipherBlock = AES.new(key, AES.MODE_ECB)\n",
    "\n",
    "buf = cipher.read(16)\n",
    "\n",
    "while buf:\n",
    "    # PKCS\n",
    "    padding = 16 - len(buf)\n",
    "    if padding != 0:\n",
    "        for i in range(padding):\n",
    "            buf += bytes([padding])\n",
    "   \n",
    "    ciphertext = cipherBlock.decrypt(buf)\n",
    "    decrypt.write(ciphertext)\n",
    "    buf = cipher.read(16)"
   ]
  },
  {
   "cell_type": "code",
   "execution_count": 9,
   "metadata": {},
   "outputs": [],
   "source": [
    "decrypt.close()\n",
    "decrypt = Image.open('decrypt.ppm')\n",
    "decrypt.save('decrypt.jpg', 'jpeg')"
   ]
  },
  {
   "cell_type": "code",
   "execution_count": 10,
   "metadata": {},
   "outputs": [],
   "source": [
    "# output cipher image\n",
    "cipherPPM = Image.open('./cipher.ppm')\n",
    "cipherPPM.save('./cipher.jpg', 'jpeg')\n",
    "cipherPPM.close()"
   ]
  }
 ],
 "metadata": {
  "kernelspec": {
   "display_name": "Python 3",
   "language": "python",
   "name": "python3"
  },
  "language_info": {
   "codemirror_mode": {
    "name": "ipython",
    "version": 3
   },
   "file_extension": ".py",
   "mimetype": "text/x-python",
   "name": "python",
   "nbconvert_exporter": "python",
   "pygments_lexer": "ipython3",
   "version": "3.7.5"
  }
 },
 "nbformat": 4,
 "nbformat_minor": 2
}
